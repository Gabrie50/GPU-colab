{
 "cells": [
  {
   "cell_type": "code",
   "execution_count": null,
   "id": "a777b953",
   "metadata": {},
   "outputs": [],
   "source": [
    "# Instalar e abrir Jupyter no Colab\n",
    "!pip install jupyterlab -q\n",
    "!pip install cloudflared -q\n",
    "\n",
    "# Iniciar Jupyter\n",
    "get_ipython().system_raw('jupyter lab --ip=0.0.0.0 --no-browser --port=8888 &')\n",
    "\n",
    "# Abrir túnel com Cloudflare\n",
    "get_ipython().system_raw('cloudflared tunnel --url http://localhost:8888 --no-autoupdate &')\n",
    "\n",
    "# Mostrar link\n",
    "!sleep 5\n",
    "!curl https://trycloudflare.com"
   ]
  }
 ],
 "metadata": {
  "kernelspec": {
   "display_name": "Python 3",
   "language": "python",
   "name": "python3"
  },
  "language_info": {
   "codemirror_mode": {
    "name": "ipython",
    "version": 3
   },
   "file_extension": ".py",
   "mimetype": "text/x-python",
   "name": "python",
   "nbconvert_exporter": "python",
   "pygments_lexer": "ipython3",
   "version": "3.10.12"
  }
 },
 "nbformat": 4,
 "nbformat_minor": 5
}