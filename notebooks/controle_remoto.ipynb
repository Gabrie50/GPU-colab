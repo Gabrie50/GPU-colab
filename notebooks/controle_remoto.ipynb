import paramiko

hostname = "economies-hang-privacy-nonprofit.trycloudflare.com"
port = 22
username = "root"
password = "123456"  # foi o que definimos no setup do SSH

client = paramiko.SSHClient()
client.set_missing_host_key_policy(paramiko.AutoAddPolicy())

print("🔗 Conectando no Colab via SSH...")
client.connect(hostname, port, username, password)

stdin, stdout, stderr = client.exec_command('nvidia-smi')
print(stdout.read().decode())

client.close()
