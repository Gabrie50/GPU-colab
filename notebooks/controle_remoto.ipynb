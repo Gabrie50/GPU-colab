{
 "cells": [
  {
   "cell_type": "code",
   "execution_count": null,
   "id": "4fdb7e59",
   "metadata": {},
   "outputs": [],
   "source": [
    "import paramiko\n",
    "\n",
    "hostname = "colab-link.trycloudflare.com"  # Coloque o link gerado no colab_setup.ipynb\n",
    "port = 22\n",
    "username = "root"  # ou o usuário configurado no Colab\n",
    "password = "seu_password"  # senha configurada no Colab\n",
    "\n",
    "client = paramiko.SSHClient()\n",
    "client.set_missing_host_key_policy(paramiko.AutoAddPolicy())\n",
    "\n",
    "print("Conectando no Colab...")\n",
    "client.connect(hostname, port, username, password)\n",
    "\n",
    "stdin, stdout, stderr = client.exec_command('nvidia-smi')\n",
    "print(stdout.read().decode())\n",
    "\n",
    "client.close()"
   ]
  }
 ],
 "metadata": {
  "kernelspec": {
   "display_name": "Python 3",
   "language": "python",
   "name": "python3"
  },
  "language_info": {
   "codemirror_mode": {
    "name": "ipython",
    "version": 3
   },
   "file_extension": ".py",
   "mimetype": "text/x-python",
   "name": "python",
   "nbconvert_exporter": "python",
   "pygments_lexer": "ipython3",
   "version": "3.10.12"
  }
 },
 "nbformat": 4,
 "nbformat_minor": 5
}